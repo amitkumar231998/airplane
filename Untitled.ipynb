{
 "cells": [
  {
   "cell_type": "markdown",
   "metadata": {},
   "source": [
    "importing libaries "
   ]
  },
  {
   "cell_type": "code",
   "execution_count": 35,
   "metadata": {},
   "outputs": [],
   "source": [
    "import numpy as np\n",
    "import pandas as pd\n",
    "import matplotlib.pyplot as plt\n",
    "import seaborn as sns"
   ]
  },
  {
   "cell_type": "markdown",
   "metadata": {},
   "source": [
    "import data from sources "
   ]
  },
  {
   "cell_type": "code",
   "execution_count": 5,
   "metadata": {},
   "outputs": [
    {
     "data": {
      "text/html": [
       "<div>\n",
       "<style scoped>\n",
       "    .dataframe tbody tr th:only-of-type {\n",
       "        vertical-align: middle;\n",
       "    }\n",
       "\n",
       "    .dataframe tbody tr th {\n",
       "        vertical-align: top;\n",
       "    }\n",
       "\n",
       "    .dataframe thead th {\n",
       "        text-align: right;\n",
       "    }\n",
       "</style>\n",
       "<table border=\"1\" class=\"dataframe\">\n",
       "  <thead>\n",
       "    <tr style=\"text-align: right;\">\n",
       "      <th></th>\n",
       "      <th>Airport.Code</th>\n",
       "      <th>Airport.Name</th>\n",
       "      <th>Time.Year</th>\n",
       "      <th>Statistics.Flights.Cancelled</th>\n",
       "    </tr>\n",
       "  </thead>\n",
       "  <tbody>\n",
       "    <tr>\n",
       "      <th>0</th>\n",
       "      <td>ATL</td>\n",
       "      <td>Atlanta, GA: Hartsfield-Jackson Atlanta Intern...</td>\n",
       "      <td>2003</td>\n",
       "      <td>216</td>\n",
       "    </tr>\n",
       "  </tbody>\n",
       "</table>\n",
       "</div>"
      ],
      "text/plain": [
       "  Airport.Code                                       Airport.Name  Time.Year  \\\n",
       "0          ATL  Atlanta, GA: Hartsfield-Jackson Atlanta Intern...       2003   \n",
       "\n",
       "   Statistics.Flights.Cancelled  \n",
       "0                           216  "
      ]
     },
     "execution_count": 5,
     "metadata": {},
     "output_type": "execute_result"
    }
   ],
   "source": [
    "df=pd.read_csv('airlines.csv')\n",
    "df.head(1)"
   ]
  },
  {
   "cell_type": "code",
   "execution_count": 4,
   "metadata": {},
   "outputs": [
    {
     "data": {
      "text/plain": [
       "Airport.Code                    0\n",
       "Airport.Name                    0\n",
       "Time.Year                       0\n",
       "Statistics.Flights.Cancelled    0\n",
       "dtype: int64"
      ]
     },
     "execution_count": 4,
     "metadata": {},
     "output_type": "execute_result"
    }
   ],
   "source": [
    "df.isnull().sum()"
   ]
  },
  {
   "cell_type": "code",
   "execution_count": 12,
   "metadata": {},
   "outputs": [
    {
     "data": {
      "text/plain": [
       "Atlanta, GA: Hartsfield-Jackson Atlanta International    154\n",
       "Name: Airport.Name, dtype: int64"
      ]
     },
     "execution_count": 12,
     "metadata": {},
     "output_type": "execute_result"
    }
   ],
   "source": [
    "df1=df['Airport.Name'].value_counts()\n",
    "df1.head(1)"
   ]
  },
  {
   "cell_type": "code",
   "execution_count": 42,
   "metadata": {},
   "outputs": [
    {
     "name": "stdout",
     "output_type": "stream",
     "text": [
      "list of unique airport names and number of times it is repeated  Atlanta, GA: Hartsfield-Jackson Atlanta International                  154\n",
      "Houston, TX: George Bush Intercontinental/Houston                      150\n",
      "New York, NY: John F. Kennedy International                            150\n",
      "New York, NY: LaGuardia                                                150\n",
      "Washington, DC: Ronald Reagan Washington National                      150\n",
      "Las Vegas, NV: McCarran International                                  150\n",
      "Miami, FL: Miami International                                         150\n",
      "Orlando, FL: Orlando International                                     150\n",
      "Chicago, IL: Chicago Midway International                              150\n",
      "Chicago, IL: Chicago O'Hare International                              150\n",
      "Los Angeles, CA: Los Angeles International                             150\n",
      "Fort Lauderdale, FL: Fort Lauderdale-Hollywood International           150\n",
      "Denver, CO: Denver International                                       150\n",
      "Baltimore, MD: Baltimore/Washington International Thurgood Marshall    150\n",
      "Detroit, MI: Detroit Metro Wayne County                                150\n",
      "Newark, NJ: Newark Liberty International                               150\n",
      "Boston, MA: Logan International                                        150\n",
      "Washington, DC: Washington Dulles International                        150\n",
      "Dallas/Fort Worth, TX: Dallas/Fort Worth International                 150\n",
      "Minneapolis, MN: Minneapolis-St Paul International                     150\n",
      "Charlotte, NC: Charlotte Douglas International                         150\n",
      "Tampa, FL: Tampa International                                         149\n",
      "Philadelphia, PA: Philadelphia International                           149\n",
      "Seattle, WA: Seattle/Tacoma International                              149\n",
      "Salt Lake City, UT: Salt Lake City International                       149\n",
      "San Francisco, CA: San Francisco International                         149\n",
      "San Diego, CA: San Diego International                                 149\n",
      "Portland, OR: Portland International                                   149\n",
      "Phoenix, AZ: Phoenix Sky Harbor International                          137\n",
      "Name: Airport.Name, dtype: int64\n"
     ]
    }
   ],
   "source": [
    "print('list of unique airport names and number of times it is repeated ' , + df1)"
   ]
  },
  {
   "cell_type": "code",
   "execution_count": 43,
   "metadata": {},
   "outputs": [
    {
     "data": {
      "text/plain": [
       "'Atlanta, GA: Hartsfield-Jackson Atlanta International'"
      ]
     },
     "execution_count": 43,
     "metadata": {},
     "output_type": "execute_result"
    }
   ],
   "source": [
    "df2=df1.idxmax()\n",
    "df2"
   ]
  },
  {
   "cell_type": "code",
   "execution_count": 24,
   "metadata": {},
   "outputs": [
    {
     "data": {
      "text/plain": [
       "154"
      ]
     },
     "execution_count": 24,
     "metadata": {},
     "output_type": "execute_result"
    }
   ],
   "source": [
    "df3=df1.max()\n",
    "df3"
   ]
  },
  {
   "cell_type": "code",
   "execution_count": 22,
   "metadata": {},
   "outputs": [
    {
     "name": "stdout",
     "output_type": "stream",
     "text": [
      "airport which is mentioned the most number of time :- Atlanta, GA: Hartsfield-Jackson Atlanta International  154\n"
     ]
    }
   ],
   "source": [
    "print('Airport which is mentioned the most number of time :- ' + df2 + '  154' )"
   ]
  },
  {
   "cell_type": "code",
   "execution_count": 31,
   "metadata": {},
   "outputs": [
    {
     "data": {
      "text/plain": [
       "137"
      ]
     },
     "execution_count": 31,
     "metadata": {},
     "output_type": "execute_result"
    }
   ],
   "source": [
    "df4=df1.idxmin()\n",
    "df5=df1.min()\n",
    "df5"
   ]
  },
  {
   "cell_type": "code",
   "execution_count": 33,
   "metadata": {},
   "outputs": [
    {
     "name": "stdout",
     "output_type": "stream",
     "text": [
      "Airport which is mentioned the least number of time :- Phoenix, AZ: Phoenix Sky Harbor International  137\n"
     ]
    }
   ],
   "source": [
    "print('Airport which is mentioned the least number of time :- ' + df4 + '  137')"
   ]
  },
  {
   "cell_type": "code",
   "execution_count": 37,
   "metadata": {},
   "outputs": [
    {
     "name": "stderr",
     "output_type": "stream",
     "text": [
      "C:\\Users\\ayon_\\anaconda3\\lib\\site-packages\\seaborn\\_decorators.py:36: FutureWarning: Pass the following variables as keyword args: x, y. From version 0.12, the only valid positional argument will be `data`, and passing other arguments without an explicit keyword will result in an error or misinterpretation.\n",
      "  warnings.warn(\n"
     ]
    },
    {
     "data": {
      "image/png": "[encoded data removed]",
      "text/plain": [
       "<Figure size 432x288 with 1 Axes>"
      ]
     },
     "metadata": {
      "needs_background": "light"
     },
     "output_type": "display_data"
    }
   ],
   "source": [
    "df6=df1.head(5)\n",
    "graph=sns.barplot(df6.index,df6.values,alpha=.8)\n",
    "plt.title('airport vs frequency')\n",
    "plt.xlabel('airport name')\n",
    "plt.ylabel('frequency')\n",
    "plt.show()"
   ]
  },
  {
   "cell_type": "code",
   "execution_count": 44,
   "metadata": {},
   "outputs": [
    {
     "name": "stderr",
     "output_type": "stream",
     "text": [
      "C:\\Users\\ayon_\\anaconda3\\lib\\site-packages\\seaborn\\_decorators.py:36: FutureWarning: Pass the following variables as keyword args: x, y. From version 0.12, the only valid positional argument will be `data`, and passing other arguments without an explicit keyword will result in an error or misinterpretation.\n",
      "  warnings.warn(\n"
     ]
    },
    {
     "data": {
      "image/png": "[encoded data removed]",
      "text/plain": [
       "<Figure size 432x288 with 1 Axes>"
      ]
     },
     "metadata": {
      "needs_background": "light"
     },
     "output_type": "display_data"
    }
   ],
   "source": [
    "df7=df1.tail(5)\n",
    "graph=sns.barplot(df7.index,df7.values,alpha=.8)\n",
    "plt.title('airplane vs frequency')\n",
    "plt.xlabel('name of airport')\n",
    "plt.ylabel('frequency')\n",
    "plt.show()"
   ]
  },
  {
   "cell_type": "code",
   "execution_count": null,
   "metadata": {},
   "outputs": [],
   "source": []
  }
 ],
 "metadata": {
  "kernelspec": {
   "display_name": "Python 3",
   "language": "python",
   "name": "python3"
  },
  "language_info": {
   "codemirror_mode": {
    "name": "ipython",
    "version": 3
   },
   "file_extension": ".py",
   "mimetype": "text/x-python",
   "name": "python",
   "nbconvert_exporter": "python",
   "pygments_lexer": "ipython3",
   "version": "3.8.5"
  }
 },
 "nbformat": 4,
 "nbformat_minor": 4
}
